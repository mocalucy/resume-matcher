{
 "cells": [
  {
   "cell_type": "code",
   "execution_count": 1,
   "id": "a3e57eed",
   "metadata": {},
   "outputs": [
    {
     "name": "stdout",
     "output_type": "stream",
     "text": [
      "Requirement already satisfied: yake in /Users/oliviazmxy/opt/anaconda3/lib/python3.8/site-packages (0.4.8)\n",
      "Requirement already satisfied: click>=6.0 in /Users/oliviazmxy/opt/anaconda3/lib/python3.8/site-packages (from yake) (8.0.4)\n",
      "Requirement already satisfied: segtok in /Users/oliviazmxy/opt/anaconda3/lib/python3.8/site-packages (from yake) (1.5.11)\n",
      "Requirement already satisfied: numpy in /Users/oliviazmxy/opt/anaconda3/lib/python3.8/site-packages (from yake) (1.21.5)\n",
      "Requirement already satisfied: networkx in /Users/oliviazmxy/opt/anaconda3/lib/python3.8/site-packages (from yake) (2.8.4)\n",
      "Requirement already satisfied: jellyfish in /Users/oliviazmxy/opt/anaconda3/lib/python3.8/site-packages (from yake) (0.9.0)\n",
      "Requirement already satisfied: tabulate in /Users/oliviazmxy/opt/anaconda3/lib/python3.8/site-packages (from yake) (0.8.10)\n",
      "Requirement already satisfied: regex in /Users/oliviazmxy/opt/anaconda3/lib/python3.8/site-packages (from segtok->yake) (2022.7.9)\n",
      "Note: you may need to restart the kernel to use updated packages.\n",
      "Requirement already satisfied: acora in /Users/oliviazmxy/opt/anaconda3/lib/python3.8/site-packages (2.4)\n",
      "Note: you may need to restart the kernel to use updated packages.\n",
      "Requirement already satisfied: uuid in /Users/oliviazmxy/opt/anaconda3/lib/python3.8/site-packages (1.30)\n",
      "Note: you may need to restart the kernel to use updated packages.\n",
      "Requirement already satisfied: find_job_titles in /Users/oliviazmxy/opt/anaconda3/lib/python3.8/site-packages (0.7.0)\n",
      "Requirement already satisfied: pyahocorasick in /Users/oliviazmxy/opt/anaconda3/lib/python3.8/site-packages (from find_job_titles) (2.1.0)\n",
      "Requirement already satisfied: acora in /Users/oliviazmxy/opt/anaconda3/lib/python3.8/site-packages (from find_job_titles) (2.4)\n",
      "Note: you may need to restart the kernel to use updated packages.\n",
      "Requirement already satisfied: PyPDF2 in /Users/oliviazmxy/opt/anaconda3/lib/python3.8/site-packages (3.0.1)\n",
      "Requirement already satisfied: typing_extensions>=3.10.0.0 in /Users/oliviazmxy/opt/anaconda3/lib/python3.8/site-packages (from PyPDF2) (4.8.0)\n",
      "Note: you may need to restart the kernel to use updated packages.\n"
     ]
    }
   ],
   "source": [
    "%pip install yake\n",
    "%pip install acora\n",
    "%pip install uuid\n",
    "%pip install find_job_titles\n",
    "%pip install PyPDF2"
   ]
  },
  {
   "cell_type": "code",
   "execution_count": 2,
   "id": "2fbe258a",
   "metadata": {},
   "outputs": [],
   "source": [
    "from dataclasses import dataclass, field\n",
    "# from common.utils import load_programming_languages, load_stopwords, load_design_tools, load_business_analyst_skills\n",
    "from acora import AcoraBuilder\n",
    "import uuid\n",
    "import yake\n",
    "from yake.highlight import TextHighlighter\n",
    "from find_job_titles import FinderAcora\n",
    "from typing import Union, Tuple\n",
    "import re\n",
    "from PyPDF2 import PdfReader\n",
    "import os\n",
    "import json"
   ]
  },
  {
   "cell_type": "code",
   "execution_count": 3,
   "id": "dcfa7a90",
   "metadata": {},
   "outputs": [
    {
     "name": "stdout",
     "output_type": "stream",
     "text": [
      "Current directory: /Users/oliviazmxy/job description keyword extraction\n"
     ]
    }
   ],
   "source": [
    "# Get the current working directory\n",
    "current_directory = os.getcwd()\n",
    "print(\"Current directory:\", current_directory)\n",
    "predefined_skills_file_path = os.path.join(current_directory, \"predefined_skills.txt\")\n",
    "\n",
    "def load_predefined_skills():\n",
    "    with open(predefined_skills_file_path, \"r\") as f:\n",
    "        predefined_skills = f.read().splitlines()\n",
    "    return predefined_skills\n",
    "\n",
    "skills_file_path = os.path.join(current_directory, \"skills.txt\")\n",
    "\n",
    "def load_skills():\n",
    "    with open(skills_file_path, \"r\") as f:\n",
    "        skills = f.read().splitlines()\n",
    "    return skills\n",
    "\n",
    "stopwords_file_path = os.path.join(current_directory, \"stopwords.txt\")\n",
    "def load_stopwords():\n",
    "    with open(stopwords_file_path, \"r\") as f:\n",
    "        stopwords = f.read().splitlines()\n",
    "    return stopwords\n"
   ]
  },
  {
   "cell_type": "code",
   "execution_count": 4,
   "id": "f03a8af8",
   "metadata": {},
   "outputs": [],
   "source": [
    "def load_yake_extractor(\n",
    "    language=\"en\",\n",
    "    max_ngram_size=3,\n",
    "    deduplication_threshold=0.9,\n",
    "    deduplication_algo=\"seqm\",\n",
    "    num_keywords=20,\n",
    ") -> yake.KeywordExtractor:\n",
    "    # hardcode parameters into yake extractor (change if needed later)\n",
    "    return yake.KeywordExtractor(\n",
    "        lan=language,\n",
    "        n=max_ngram_size,\n",
    "        dedupLim=deduplication_threshold,\n",
    "        dedupFunc=deduplication_algo,\n",
    "        top=num_keywords,\n",
    "        features=None,\n",
    "    )"
   ]
  },
  {
   "cell_type": "code",
   "execution_count": 5,
   "id": "91f790a4",
   "metadata": {},
   "outputs": [],
   "source": [
    "\n",
    "def extract_job_description_yake_keywords(job_description, yake_extractor) -> list:\n",
    "    stopwords = load_stopwords()\n",
    "\n",
    "    # getting keywords using yake extractor\n",
    "    raw_yake_output = yake_extractor.extract_keywords(job_description)\n",
    "    yake_keywords = [\n",
    "        keyword_tuple[0] for keyword_tuple in raw_yake_output\n",
    "    ]  # not including score in tuple\n",
    "\n",
    "    # removing duplicates, stopwords, and target company name (if exists)\n",
    "    punctuation_chars = \"!\\\"#$%&'()*+,-./:;<=>?@[]^_`{|}~\\\\\"\n",
    "    all_keywords = [m for m in yake_keywords if m not in stopwords and m[0] not in punctuation_chars]\n",
    "\n",
    "    # adding found keywords to class instance\n",
    "    job_yake_keywords = list(set(all_keywords))\n",
    "\n",
    "    return job_yake_keywords\n",
    "\n",
    "def extract_job_description_skills(job_description):\n",
    "    # loading skill keywords from txt files\n",
    "    skills_base_dict = {\n",
    "        \"skill\": load_skills()\n",
    "#         ,\"predefined_skills\": load_predefined_skills()\n",
    "    }\n",
    "    \n",
    "    # finding other keywords from job field skill txt inputs\n",
    "    found_skills_dict = dict()\n",
    "    found_skills_list = list()  # easy to add to yake keywords in final function\n",
    "    for skill_type, skill_list in skills_base_dict.items():\n",
    "        acora_search_engine = AcoraBuilder(skill_list).build()\n",
    "        found_skills_dict[skill_type] = list(set([k[0] for k in acora_search_engine.findall(job_description)]))\n",
    "        found_skills_list += found_skills_dict[skill_type]\n",
    "    job_skills = found_skills_dict\n",
    "    return found_skills_list\n",
    "    \n",
    "def extract_job_description_keywords(job_description, yake_extractor):\n",
    "    yake_keywords = extract_job_description_yake_keywords(job_description, yake_extractor)\n",
    "    skills_keywords = extract_job_description_skills(job_description)\n",
    "    job_keywords = yake_keywords\n",
    "    return job_keywords, skills_keywords\n"
   ]
  },
  {
   "cell_type": "code",
   "execution_count": 6,
   "id": "64b869c7",
   "metadata": {},
   "outputs": [],
   "source": [
    "# Function to extract text from a PDF file\n",
    "def extract_text_from_pdf(pdf_path):\n",
    "    with open(pdf_path, 'rb') as file:\n",
    "        reader = PdfReader(file)\n",
    "        text = \"\"\n",
    "        for page in reader.pages:\n",
    "            text += page.extract_text()\n",
    "    return text\n",
    "\n",
    "# Function to normalize text\n",
    "def normalize_text(text):\n",
    "    text = re.sub(r'\\s+', ' ', text)\n",
    "    return text.strip()"
   ]
  },
  {
   "cell_type": "code",
   "execution_count": 13,
   "id": "88dbb986",
   "metadata": {
    "scrolled": true
   },
   "outputs": [
    {
     "name": "stdout",
     "output_type": "stream",
     "text": [
      "Keywords:  ['Arts Foundation', 'visually appealing website', 'development skills', 'creating intuitive', 'Community School', 'end development', 'visually appealing', 'Opportunity', 'end development skills', 'Designer', 'appealing website layouts', 'Web', 'Web Designer', 'website layouts', 'Volunteer Opportunity', 'development', 'Vibrant Arts', 'Vibrant Arts Foundation', 'appealing website', 'intuitive and visually']\n",
      "\n",
      "\n",
      "\n",
      "Skills:  ['UI', 'Sales Process', 'Resource Development / Management', 'Figma', 'System Engineering', 'Grant Writing / Research', 'Business Development & Sales Management', 'UX', 'Fundraising', 'Canva']\n"
     ]
    }
   ],
   "source": [
    "# Process for the first PDF\n",
    "pdf_path = '/Users/oliviazmxy/job description keyword extraction/CSOAF jd1.pdf'\n",
    "text = extract_text_from_pdf(pdf_path)\n",
    "job_description = normalize_text(text)\n",
    "\n",
    "ye = load_yake_extractor()\n",
    "job_keywords, skills_list = extract_job_description_keywords(job_description, ye)\n",
    "\n",
    "\n",
    "print(\"Keywords: \", job_keywords)\n",
    "print(\"\\n\\n\")\n",
    "print(\"Skills: \", skills_list)\n"
   ]
  },
  {
   "cell_type": "code",
   "execution_count": 14,
   "id": "2118bfcb",
   "metadata": {},
   "outputs": [
    {
     "name": "stdout",
     "output_type": "stream",
     "text": [
      "Skills saved to extracted_skills_csoaf_jd1.json\n"
     ]
    }
   ],
   "source": [
    "# Function to save skills to JSON\n",
    "def save_skills_to_json(skills, json_path):\n",
    "    with open(json_path, 'w') as file:\n",
    "        json.dump(skills, file, indent=4)\n",
    "    print(f\"Skills saved to {json_path}\")\n",
    "\n",
    "all_skills = job_keywords + skills_list\n",
    "json_path = 'extracted_skills_csoaf_jd1.json'\n",
    "save_skills_to_json(all_skills, json_path)"
   ]
  },
  {
   "cell_type": "code",
   "execution_count": null,
   "id": "aac2b679",
   "metadata": {},
   "outputs": [],
   "source": []
  }
 ],
 "metadata": {
  "kernelspec": {
   "display_name": "Python 3 (ipykernel)",
   "language": "python",
   "name": "python3"
  },
  "language_info": {
   "codemirror_mode": {
    "name": "ipython",
    "version": 3
   },
   "file_extension": ".py",
   "mimetype": "text/x-python",
   "name": "python",
   "nbconvert_exporter": "python",
   "pygments_lexer": "ipython3",
   "version": "3.8.13"
  }
 },
 "nbformat": 4,
 "nbformat_minor": 5
}
